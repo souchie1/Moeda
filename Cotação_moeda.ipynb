{
  "nbformat": 4,
  "nbformat_minor": 0,
  "metadata": {
    "colab": {
      "provenance": [],
      "authorship_tag": "ABX9TyPMRoUxMPWfRYHzTVpDbBKC",
      "include_colab_link": true
    },
    "kernelspec": {
      "name": "python3",
      "display_name": "Python 3"
    },
    "language_info": {
      "name": "python"
    }
  },
  "cells": [
    {
      "cell_type": "markdown",
      "metadata": {
        "id": "view-in-github",
        "colab_type": "text"
      },
      "source": [
        "<a href=\"https://colab.research.google.com/github/souchie1/Moeda/blob/main/Cota%C3%A7%C3%A3o_moeda.ipynb\" target=\"_parent\"><img src=\"https://colab.research.google.com/assets/colab-badge.svg\" alt=\"Open In Colab\"/></a>"
      ]
    },
    {
      "cell_type": "markdown",
      "source": [
        "# Cotação Simples"
      ],
      "metadata": {
        "id": "ucneG1rJ466V"
      }
    },
    {
      "cell_type": "code",
      "execution_count": 1,
      "metadata": {
        "colab": {
          "base_uri": "https://localhost:8080/"
        },
        "id": "u426Kp5ykYeC",
        "outputId": "2e435e54-73c9-4367-f963-da141fdf2617"
      },
      "outputs": [
        {
          "output_type": "stream",
          "name": "stdout",
          "text": [
            "4.8666\n"
          ]
        }
      ],
      "source": [
        "# Importar as bibliotecas\n",
        "\n",
        "import requests # fará a requisição para o site especificado\n",
        "import json # transferir dados entre o servidor e o cliente\n",
        "\n",
        "# esse link pode mudar se os donos da API mudarem\n",
        "cotacoes = requests.get(\"https://economia.awesomeapi.com.br/last/USD-BRL,EUR-BRL,BTC-BRL\") # Buscará cotação da moeda solicitada no site especificado.\n",
        "cotacoes_dic = cotacoes.json()\n",
        "cotacoes_dolar = cotacoes_dic['USDBRL']['bid'] # moeda especificada -> dólar\n",
        "print(cotacoes_dolar) # apresenta o valor em real"
      ]
    },
    {
      "cell_type": "markdown",
      "source": [
        "# Cotação para Real"
      ],
      "metadata": {
        "id": "YgO2nsqx320g"
      }
    },
    {
      "cell_type": "code",
      "source": [
        "# Importar as bibliotecas\n",
        "\n",
        "import requests\n",
        "import json\n",
        "\n",
        "# Fazer a requisição para a API de cotações\n",
        "cotacoes = requests.get(\"https://economia.awesomeapi.com.br/last/USD-BRL,EUR-BRL,BTC-BRL\")\n",
        "cotacoes_dic = cotacoes.json()\n",
        "\n",
        "# Obter as cotações de cada moeda\n",
        "cotacao_dolar = cotacoes_dic['USDBRL']['bid']\n",
        "cotacao_euro = cotacoes_dic['EURBRL']['bid']\n",
        "cotacao_bitcoin = cotacoes_dic['BTCBRL']['bid']\n",
        "\n",
        "# Solicitar a moeda desejada ao usuário\n",
        "moeda_escolhida = input(\"Digite a moeda que deseja consultar (USD, EUR ou BTC): \").upper()\n",
        "\n",
        "# Verificar a moeda escolhida e formatar a saída\n",
        "if moeda_escolhida == 'USD':\n",
        "    resultado = f\"Moeda: USD - Dólar Americano\\nValor em Real: R${cotacao_dolar}\"\n",
        "elif moeda_escolhida == 'EUR':\n",
        "    resultado = f\"Moeda: EUR - Euro\\nValor em Real: R${cotacao_euro}\"\n",
        "elif moeda_escolhida == 'BTC':\n",
        "    resultado = f\"Moeda: BTC - Bitcoin\\nValor em Real : R$ {cotacao_bitcoin}\"\n",
        "else:\n",
        "    resultado = \"Moeda não reconhecida. Por favor, escolha entre USD, EUR ou BTC.\"\n",
        "\n",
        "# Imprimir o resultado\n",
        "print(resultado)\n"
      ],
      "metadata": {
        "colab": {
          "base_uri": "https://localhost:8080/"
        },
        "id": "CXpLsBj3ooaW",
        "outputId": "c3ccd9e1-7e12-43e5-cdc4-6687cda536ca"
      },
      "execution_count": 4,
      "outputs": [
        {
          "output_type": "stream",
          "name": "stdout",
          "text": [
            "Digite a moeda que deseja consultar (USD, EUR ou BTC): btc\n",
            "Moeda: BTC - Bitcoin\n",
            "Valor em Real : R$ 130139\n"
          ]
        }
      ]
    },
    {
      "cell_type": "markdown",
      "source": [
        "# Cotação com opções\n"
      ],
      "metadata": {
        "id": "OGdMMZLD5ODr"
      }
    },
    {
      "cell_type": "code",
      "source": [
        "# Importar as bibliotecas\n",
        "import requests\n",
        "import json\n",
        "\n",
        "# Função para obter a cotação de uma moeda específica\n",
        "def obter_cotacao(moeda_origem, moeda_destino):\n",
        "    cotacoes = requests.get(f\"https://economia.awesomeapi.com.br/last/{moeda_origem}-{moeda_destino}\")\n",
        "    cotacoes_dic = cotacoes.json()\n",
        "    cotacao = float(cotacoes_dic[f'{moeda_origem}{moeda_destino}']['bid'])\n",
        "    return cotacao\n",
        "\n",
        "# Lista de opções de moedas\n",
        "opcoes_moedas = {\n",
        "    'USD': 'Dólar Americano (USD)',\n",
        "    'EUR': 'Euro (EUR)',\n",
        "    'JPY': 'Iene Japonês (JPY)',\n",
        "    'GBP': 'Libra Esterlina (GBP)',\n",
        "    'AUD': 'Dólar Australiano (AUD)',\n",
        "    # Adicione mais moedas conforme necessário\n",
        "}\n",
        "\n",
        "while True:\n",
        "    # Exibir opções de moedas disponíveis\n",
        "    print(\"Opções de moedas disponíveis:\")\n",
        "    for codigo, nome in opcoes_moedas.items():\n",
        "        print(f\"{codigo}: {nome}\")\n",
        "    print(\"BRL: Real Brasileiro (BRL)\")\n",
        "\n",
        "    # Solicitar a moeda de origem ao usuário\n",
        "    moeda_origem = input(\"Digite o código da moeda de origem: \").upper()\n",
        "\n",
        "    # Verificar se a moeda de origem é válida\n",
        "    if moeda_origem not in opcoes_moedas and moeda_origem != 'BRL':\n",
        "        print(\"Moeda de origem não reconhecida. Por favor, escolha uma moeda válida.\")\n",
        "        continue\n",
        "\n",
        "    # Solicitar a moeda alvo da conversão\n",
        "    moeda_destino = input(\"Digite o código da moeda para a qual deseja converter: \").upper()\n",
        "\n",
        "    # Verificar se a moeda alvo é válida\n",
        "    if moeda_destino not in opcoes_moedas and moeda_destino != 'BRL':\n",
        "        print(\"Moeda alvo não reconhecida. Por favor, escolha uma moeda válida.\")\n",
        "        continue\n",
        "\n",
        "    # Obter a cotação das duas moedas\n",
        "    cotacao = obter_cotacao(moeda_origem, moeda_destino)\n",
        "\n",
        "    # Solicitar o valor a ser convertido\n",
        "    valor_origem = float(input(f\"Digite o valor em {moeda_origem}: \"))\n",
        "\n",
        "    # Calcular a conversão\n",
        "    valor_destino = valor_origem * cotacao\n",
        "\n",
        "    # Apresentar os resultados na moeda escolhida pelo usuário\n",
        "    print(f\"{valor_origem:.2f} {moeda_origem} equivalem a {valor_destino:.2f} {moeda_destino}\")\n",
        "\n",
        "    # Perguntar ao usuário se deseja continuar ou encerrar\n",
        "    continuar = input(\"Deseja continuar (S para sim, qualquer outra tecla para encerrar)? \").upper()\n",
        "    if continuar != 'S':\n",
        "        break\n",
        "print(\"Encerrando....\")\n",
        "\n"
      ],
      "metadata": {
        "colab": {
          "base_uri": "https://localhost:8080/"
        },
        "id": "1hYsZxZDwwrx",
        "outputId": "777c5d6f-c9d3-4287-ce03-641491634b44"
      },
      "execution_count": 5,
      "outputs": [
        {
          "output_type": "stream",
          "name": "stdout",
          "text": [
            "Opções de moedas disponíveis:\n",
            "USD: Dólar Americano (USD)\n",
            "EUR: Euro (EUR)\n",
            "JPY: Iene Japonês (JPY)\n",
            "GBP: Libra Esterlina (GBP)\n",
            "AUD: Dólar Australiano (AUD)\n",
            "BRL: Real Brasileiro (BRL)\n",
            "Digite o código da moeda de origem: usd\n",
            "Digite o código da moeda para a qual deseja converter: gbp\n",
            "Digite o valor em USD: 100\n",
            "100.00 USD equivalem a 80.39 GBP\n",
            "Deseja continuar (S para sim, qualquer outra tecla para encerrar)? n\n",
            "Encerrando....\n"
          ]
        }
      ]
    }
  ]
}